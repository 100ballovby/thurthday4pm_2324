{
 "cells": [
  {
   "cell_type": "markdown",
   "id": "54d31d41-e8ed-44b5-85f5-4fba2ab0c82a",
   "metadata": {
    "collapsed": true,
    "jupyter": {
     "outputs_hidden": true
    }
   },
   "source": [
    "# Наследование \n",
    "\n",
    "<p style=\"font-size: 18px\">Наследование позволяет создать новый класс на основе существующего класса, добавив к нему новые методы/поля. Наряду с инкапсуляцией наследование является одним из краеугольных камней ООП.</p>\n",
    "\n",
    "<p style=\"font-size: 18px\">Ключевыми понятиями наследования является <b>подкласс (дочерний)</b> и <b>суперкласс (родительский)</b>. Подклассы наследуют от суперкласса (или класса-родителя) все публичные атрибуты и методы. Суперклассы еще называются базовыми (base class), подклассы - производный или дочерний.</p>\n",
    "\n",
    "<p style=\"font-size: 18px\">Наследование имеет свой специфический синтаксис:</p>\n",
    "\n",
    "<pre><code>\n",
    "    class название (<i>суперкласс</i>):\n",
    "        методы_подкласса\n",
    "</code></pre>"
   ]
  },
  {
   "cell_type": "markdown",
   "id": "4051523c-8340-41f8-b385-9d30e2ad330c",
   "metadata": {},
   "source": [
    "<p style=\"font-size: 18px\">Например, у нас есть класс <code>Person</code>, который представляет человека:</p>"
   ]
  },
  {
   "cell_type": "code",
   "execution_count": 2,
   "id": "cc5680fc-99d7-4353-a8b6-db2516310547",
   "metadata": {},
   "outputs": [
    {
     "name": "stdout",
     "output_type": "stream",
     "text": [
      "Name: Tom, age 32\n",
      "Tom works\n"
     ]
    }
   ],
   "source": [
    "class Person:\n",
    "    def __init__(self, name, age):\n",
    "        self.name = name\n",
    "        self.age = age\n",
    "\n",
    "    def name(self):\n",
    "        return self.name\n",
    "\n",
    "    def display_info(self):\n",
    "        print(f'Name: {self.name}, age {self.age}')\n",
    "\n",
    "\n",
    "class Employee(Person):\n",
    "    def work(self):\n",
    "        print(f'{self.name} works')\n",
    "\n",
    "\n",
    "tom = Employee('Tom', 32)\n",
    "tom.display_info()\n",
    "tom.work()\n",
    "    "
   ]
  },
  {
   "cell_type": "markdown",
   "id": "d88f25a0-1b59-4329-bc82-7332cc52fb5c",
   "metadata": {},
   "source": [
    "## Виды наследования\n",
    "\n",
    "<p style=\"font-siz3: 18px\">Существует всего 3 вида наследования, которые существенно друг от друга отличаются:</p>\n",
    "\n",
    "<ul style=\"font-siz3: 18px\">\n",
    "    <li>Простое наследование подклассом атрибутов и методов надкласса;</li>\n",
    "    <li>Полное переопределение в подклассе некоторых методов родителя;</li>\n",
    "    <li>Расширение в дочернем классе методов родителя.</li>\n",
    "</ul>\n",
    "\n",
    "## Простое наследование\n",
    "\n",
    "<p style=\"font-siz3: 18px\">В качестве примера возьмем стол. Все столы похожи друг на друга, но у некоторых столов есть узкое применение (обеденный, письменный, компьютерный). Вне зависимости от своего типа все столы имеют длину, ширину и высоту. Для письменных столов важна площадь (полезная) поверхности. Общие данные можно вынести в родительский класс, специфику остаивть наследникам.</p>"
   ]
  },
  {
   "cell_type": "code",
   "execution_count": 6,
   "id": "02e2f38e-3ea6-4c75-b72d-971677a3d930",
   "metadata": {},
   "outputs": [
    {
     "name": "stdout",
     "output_type": "stream",
     "text": [
      "0.48\n"
     ]
    }
   ],
   "source": [
    "class Table:\n",
    "    def __init__(self, l, w, h):\n",
    "        self.length = l\n",
    "        self.width = w\n",
    "        self.height = h\n",
    "\n",
    "\n",
    "class DeskTable(Table):\n",
    "    def square(self):\n",
    "        return self.length * self.width\n",
    "\n",
    "\n",
    "t1 = Table(1.5, 1.8, 0.75)\n",
    "t2 = DeskTable(0.8, 0.6, 0.75)\n",
    "print(t2.square())"
   ]
  },
  {
   "cell_type": "markdown",
   "id": "e1a5d8fd-d4b0-456c-b3b2-a3e63108dbc1",
   "metadata": {},
   "source": [
    "# Полное переопределение методов надкласса\n",
    "\n",
    "<p style=\"font-siz3: 18px\">Рассмотрим вариант программы с \"цепочкой\" наследований. Пусть дочерний класс к <code>Table</code> станет родительским к классу <code>ComputerTable</code>.</p>"
   ]
  },
  {
   "cell_type": "code",
   "execution_count": 8,
   "id": "a0859894-93f6-4fda-8708-7f6079f5d053",
   "metadata": {},
   "outputs": [
    {
     "name": "stdout",
     "output_type": "stream",
     "text": [
      "0.27999999999999997\n"
     ]
    }
   ],
   "source": [
    "class Table:\n",
    "    def __init__(self, l, w, h):\n",
    "        self.length = l\n",
    "        self.width = w\n",
    "        self.height = h\n",
    "\n",
    "\n",
    "class DeskTable(Table):\n",
    "    def square(self):\n",
    "        return self.length * self.width\n",
    "\n",
    "\n",
    "class ComputerTable(DeskTable):\n",
    "    def square(self, monitor = 0.0):  # полностью переопределяю метод родителя\n",
    "        return (self.length * self.width) - monitor\n",
    "\n",
    "\n",
    "t3 = ComputerTable(0.8, 0.6, 0.75)\n",
    "print(t3.square(0.2))"
   ]
  },
  {
   "cell_type": "markdown",
   "id": "458d3ac2-a0c5-433f-bb5d-d73e65b14811",
   "metadata": {},
   "source": [
    "# Дополнение (расширение) метода родителя\n",
    "\n",
    "<p style=\"font-siz3: 18px\">Часто требуется не только переопределить, но и дополнить родительский метод в дочернем классе. Чтобы это сделать, необходимо вызвать метод родителя внутри дочернего класса. Обычно после вызова пишется дополнительный код.</p>"
   ]
  },
  {
   "cell_type": "code",
   "execution_count": 9,
   "id": "bc595217-ddf3-4bf2-8115-9e882fc14f80",
   "metadata": {},
   "outputs": [],
   "source": [
    "class Table:\n",
    "    def __init__(self, l, w, h):\n",
    "        self.length = l\n",
    "        self.width = w\n",
    "        self.height = h\n",
    "\n",
    "class KitchenTable(Table):\n",
    "    def __init__(self, l, w, h, p):\n",
    "        self.length = l\n",
    "        self.width = w\n",
    "        self.height = h\n",
    "        self.places = p"
   ]
  },
  {
   "cell_type": "markdown",
   "id": "374850ff-465d-415e-ab8a-e98ed3b45f5b",
   "metadata": {},
   "source": [
    "<p style=\"font-siz3: 18px\">Так как основная часть метода-конструктора совпадает, переписывать все поля нет никакой необходимости (это противоречит чистоте кода).</p>\n",
    "\n",
    "<p style=\"font-siz3: 18px\">Для дополнения метода-конструктора новыми полями, воспользуемся ключевым словом <code>super()</code>. Оно позволяет добавить всё содержимое конструктора класса-родителя в конструктор наследника:</p>"
   ]
  },
  {
   "cell_type": "code",
   "execution_count": 10,
   "id": "f32a3303-6473-4d7c-8c98-ade620a36c77",
   "metadata": {},
   "outputs": [
    {
     "name": "stdout",
     "output_type": "stream",
     "text": [
      "2\n"
     ]
    }
   ],
   "source": [
    "class Table:\n",
    "    def __init__(self, l, w, h):\n",
    "        self.length = l\n",
    "        self.width = w\n",
    "        self.height = h\n",
    "\n",
    "class KitchenTable(Table):\n",
    "    def __init__(self, l, w, h, p):\n",
    "        super().__init__(l, w, h)  # \"выгружаем\" все поля конструктора родителя в конструктор дочернего класса\n",
    "        self.places = p\n",
    "\n",
    "kt1 = KitchenTable(2, 3, 0.75, 8)\n",
    "print(kt1.length)"
   ]
  },
  {
   "cell_type": "code",
   "execution_count": null,
   "id": "a7bf4f18-45fd-4820-8ff6-20d478f47e07",
   "metadata": {},
   "outputs": [],
   "source": []
  }
 ],
 "metadata": {
  "kernelspec": {
   "display_name": "Python 3 (ipykernel)",
   "language": "python",
   "name": "python3"
  },
  "language_info": {
   "codemirror_mode": {
    "name": "ipython",
    "version": 3
   },
   "file_extension": ".py",
   "mimetype": "text/x-python",
   "name": "python",
   "nbconvert_exporter": "python",
   "pygments_lexer": "ipython3",
   "version": "3.11.2"
  }
 },
 "nbformat": 4,
 "nbformat_minor": 5
}
