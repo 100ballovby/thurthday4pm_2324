{
 "cells": [
  {
   "cell_type": "markdown",
   "id": "5449478fa903eaf5",
   "metadata": {
    "collapsed": false,
    "jupyter": {
     "outputs_hidden": false
    }
   },
   "source": [
    "<p style=\"font-size: 18px;\">Функции и методы могут принимать неограниченное количество аргументов. Для того, чтобы вы могли добавить такую возможность используется оператор:</p>\n",
    "\n",
    "## Оператор <code>*</code>\n",
    "\n",
    "<p style=\"font-size: 18px;\">Оператор <code>*</code> используется для упаковки и распаковки итерируемых объектов: списки, кортежи, словари. Если оператор стоит перед итерируемым объектом во время вызова функции (метода), оператор распаковывает этот объект. Элементы итерируемого объекта передаются в качестве аргумента функции (метода).</p>"
   ]
  },
  {
   "cell_type": "code",
   "execution_count": 2,
   "id": "38f131e93391556e",
   "metadata": {
    "ExecuteTime": {
     "end_time": "2023-09-21T13:13:18.239165Z",
     "start_time": "2023-09-21T13:13:18.232243Z"
    },
    "collapsed": false,
    "jupyter": {
     "outputs_hidden": false
    }
   },
   "outputs": [
    {
     "name": "stdout",
     "output_type": "stream",
     "text": [
      "14\n"
     ]
    }
   ],
   "source": [
    "def sum_of(a, b, c):\n",
    "    return a + b + c\n",
    "\n",
    "values = [3, 9, 2]\n",
    "print(sum_of(*values))"
   ]
  },
  {
   "cell_type": "markdown",
   "id": "86753334-1b9c-4021-b8ca-1f108ee31836",
   "metadata": {},
   "source": [
    "<p style=\"font-size: 18px;\">Оператор <code>*</code> можно использовать в качестве распаковщика итерабельных переменных. Это позволит присваивать их отдельным переменным:</p>"
   ]
  },
  {
   "cell_type": "code",
   "execution_count": 3,
   "id": "1ceed214-69e6-4f98-af96-4e48ba1f6327",
   "metadata": {},
   "outputs": [
    {
     "name": "stdout",
     "output_type": "stream",
     "text": [
      "a = 1\n",
      "b = 2\n",
      "rest = [3, 4, 5]\n"
     ]
    }
   ],
   "source": [
    "lst1 = [1, 2, 3, 4, 5]\n",
    "a, b, *rest = lst1\n",
    "\n",
    "print(f'a = {a}')\n",
    "print(f'b = {b}')\n",
    "print(f'rest = {rest}')"
   ]
  },
  {
   "cell_type": "markdown",
   "id": "7824111a-4aa8-4a5d-bd9c-acb3a9f70a85",
   "metadata": {},
   "source": [
    "<p style=\"font-size: 18px;\">Помимо прочего оператор можно использовать для того, чтобы метод или функция могли получить неопределенное количество аргументов:</p>"
   ]
  },
  {
   "cell_type": "code",
   "execution_count": 9,
   "id": "9ffbd9c2-3790-4770-bf0f-63a703aae637",
   "metadata": {},
   "outputs": [
    {
     "name": "stdout",
     "output_type": "stream",
     "text": [
      "9\n",
      "208\n"
     ]
    }
   ],
   "source": [
    "def sum_all(*a):\n",
    "    s = 0\n",
    "    for i in a:\n",
    "        s += i\n",
    "    return s\n",
    "\n",
    "\n",
    "print(sum_all(4, 5))\n",
    "print(sum_all(6, 7, 2, 1, 89, 34, 67, 2))\n",
    "# print(sum_all([6, 7, 2, 1, 89, 34, 67, 2])) <- class 'list' сюда передавать нельзя "
   ]
  },
  {
   "cell_type": "code",
   "execution_count": null,
   "id": "e43455a2-b0d1-4779-976e-0f41752e2d4e",
   "metadata": {},
   "outputs": [],
   "source": []
  }
 ],
 "metadata": {
  "kernelspec": {
   "display_name": "Python 3 (ipykernel)",
   "language": "python",
   "name": "python3"
  },
  "language_info": {
   "codemirror_mode": {
    "name": "ipython",
    "version": 3
   },
   "file_extension": ".py",
   "mimetype": "text/x-python",
   "name": "python",
   "nbconvert_exporter": "python",
   "pygments_lexer": "ipython3",
   "version": "3.11.2"
  }
 },
 "nbformat": 4,
 "nbformat_minor": 5
}
